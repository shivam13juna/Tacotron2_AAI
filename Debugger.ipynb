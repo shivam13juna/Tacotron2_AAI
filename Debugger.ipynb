{
 "cells": [
  {
   "cell_type": "markdown",
   "metadata": {},
   "source": [
    "# Debugging Tacotron 2"
   ]
  },
  {
   "cell_type": "code",
   "execution_count": 1,
   "metadata": {},
   "outputs": [],
   "source": [
    "import numpy as np\n",
    "import pandas as pd\n",
    "from importlib import reload\n",
    "import os\n",
    "import torch\n",
    "from torch.utils.data import DataLoader\n",
    "from scipy.io import loadmat"
   ]
  },
  {
   "cell_type": "code",
   "execution_count": 189,
   "metadata": {},
   "outputs": [],
   "source": [
    "import ema\n",
    "reload(ema)\n",
    "from ema import train_ema, test_ema"
   ]
  },
  {
   "cell_type": "code",
   "execution_count": 319,
   "metadata": {},
   "outputs": [],
   "source": [
    "train = train_ema()\n",
    "train_loader = DataLoader(train, shuffle=True, batch_size = 10)\n",
    "\n",
    "test = test_ema()\n",
    "test_loader = DataLoader(test, shuffle=True, batch_size = 10)"
   ]
  },
  {
   "cell_type": "code",
   "execution_count": 320,
   "metadata": {},
   "outputs": [],
   "source": [
    "gh = iter(train_loader)\n",
    "\n",
    "hh = iter(test_loader)"
   ]
  },
  {
   "cell_type": "code",
   "execution_count": 324,
   "metadata": {},
   "outputs": [
    {
     "data": {
      "text/plain": [
       "[tensor([12,  5, 16, 19, 12, 23, 28, 12, 40, 15]),\n",
       " tensor([19, 34, 23, 26, 19, 10, 37, 19, 26, 14]),\n",
       " tensor([40, 42, 26, 22,  6, 31, 23, 33, 16, 16]),\n",
       " tensor([26, 26, 37, 23, 17, 33, 34, 35, 38, 38]),\n",
       " tensor([41,  9, 33, 19, 42, 19, 30,  4,  4,  4]),\n",
       " tensor([38, 33, 18,  8, 26,  8,  5, 19, 19,  9]),\n",
       " tensor([15, 19,  8,  6, 37, 21, 23, 38, 12, 33]),\n",
       " tensor([ 2,  4, 15, 28, 26, 39, 18,  6, 19,  5]),\n",
       " tensor([10, 21,  6, 14, 28, 26, 11, 13,  6, 23]),\n",
       " tensor([40, 26, 19, 35, 19, 19, 17,  4, 41, 35]),\n",
       " tensor([ 6, 30, 29,  6, 11, 38, 19, 21, 31, 29]),\n",
       " tensor([17, 31,  1, 23, 19,  4, 38, 19, 40,  6]),\n",
       " tensor([23,  6, 38,  9, 15, 30, 21, 33, 26, 19]),\n",
       " tensor([37, 25, 31, 38, 28,  8, 35, 14, 30, 38]),\n",
       " tensor([26, 18, 19, 37, 39, 18,  4, 11,  2, 15]),\n",
       " tensor([23, 21,  5, 26, 21, 11,  6, 15, 35, 25]),\n",
       " tensor([18, 39,  1, 12,  7,  2, 40,  6,  6, 14]),\n",
       " tensor([33, 26, 38, 19,  7, 16, 19, 12, 19, 19]),\n",
       " tensor([39,  5, 31, 28,  7,  8,  8, 19,  5, 31]),\n",
       " tensor([ 2, 26,  4, 39,  7, 33, 35, 38, 25, 35]),\n",
       " tensor([37, 18, 19, 23,  7, 19, 38, 18, 26, 17]),\n",
       " tensor([11,  5, 38,  7,  7, 25,  4, 15, 37, 28]),\n",
       " tensor([ 3, 13, 31,  7,  7, 31, 19, 21, 24,  1]),\n",
       " tensor([16, 26,  6,  7,  7, 14, 38, 39, 37, 11]),\n",
       " tensor([15, 37, 37,  7,  7, 31, 31, 26, 24, 38]),\n",
       " tensor([22, 24, 38,  7,  7, 19,  5,  6,  6, 13]),\n",
       " tensor([ 6, 12, 12,  7,  7, 23, 10, 19, 37, 17]),\n",
       " tensor([25, 19, 19,  7,  7, 11, 23, 21, 38, 23]),\n",
       " tensor([19, 33, 25,  7,  7,  7, 19, 35,  5, 19]),\n",
       " tensor([31, 17, 14,  7,  7,  7, 33,  4, 13, 33]),\n",
       " tensor([33, 34, 10,  7,  7,  7, 18, 19, 31,  7]),\n",
       " tensor([31, 30, 23,  7,  7,  7, 26, 31, 37,  7]),\n",
       " tensor([ 9, 35, 19,  7,  7,  7, 37, 37, 17,  7]),\n",
       " tensor([15, 11, 29,  7,  7,  7, 40,  8, 22,  7]),\n",
       " tensor([ 6,  7, 18,  7,  7,  7, 10, 16, 31,  7]),\n",
       " tensor([41,  7, 16,  7,  7,  7, 26, 17, 33,  7]),\n",
       " tensor([31,  7, 38,  7,  7,  7, 15,  3,  7,  7]),\n",
       " tensor([22,  7, 15,  7,  7,  7, 37, 19,  7,  7]),\n",
       " tensor([38,  7, 12,  7,  7,  7, 24, 38,  7,  7]),\n",
       " tensor([23,  7, 19,  7,  7,  7, 28,  7,  7,  7]),\n",
       " tensor([18,  7, 13,  7,  7,  7,  9,  7,  7,  7]),\n",
       " tensor([19,  7, 38,  7,  7,  7, 33,  7,  7,  7]),\n",
       " tensor([ 4,  7, 29,  7,  7,  7, 31,  7,  7,  7]),\n",
       " tensor([22,  7, 19,  7,  7,  7, 26,  7,  7,  7]),\n",
       " tensor([ 4,  7, 38,  7,  7,  7, 37,  7,  7,  7]),\n",
       " tensor([19,  7, 37,  7,  7,  7,  4,  7,  7,  7]),\n",
       " tensor([38,  7, 26,  7,  7,  7, 30,  7,  7,  7]),\n",
       " tensor([31,  7, 37,  7,  7,  7,  8,  7,  7,  7]),\n",
       " tensor([ 7,  7, 24,  7,  7,  7, 19,  7,  7,  7]),\n",
       " tensor([ 7,  7, 15,  7,  7,  7, 23,  7,  7,  7]),\n",
       " tensor([ 7,  7, 37,  7,  7,  7,  7,  7,  7,  7]),\n",
       " tensor([7, 7, 5, 7, 7, 7, 7, 7, 7, 7]),\n",
       " tensor([ 7,  7, 10,  7,  7,  7,  7,  7,  7,  7]),\n",
       " tensor([ 7,  7, 26,  7,  7,  7,  7,  7,  7,  7]),\n",
       " tensor([ 7,  7, 31,  7,  7,  7,  7,  7,  7,  7]),\n",
       " tensor([7, 7, 4, 7, 7, 7, 7, 7, 7, 7]),\n",
       " tensor([ 7,  7, 19,  7,  7,  7,  7,  7,  7,  7]),\n",
       " tensor([ 7,  7, 38,  7,  7,  7,  7,  7,  7,  7]),\n",
       " tensor([ 7,  7, 31,  7,  7,  7,  7,  7,  7,  7]),\n",
       " tensor([ 7,  7, 33,  7,  7,  7,  7,  7,  7,  7])]"
      ]
     },
     "execution_count": 324,
     "metadata": {},
     "output_type": "execute_result"
    }
   ],
   "source": [
    "(gh.next()[0])"
   ]
  },
  {
   "cell_type": "code",
   "execution_count": 327,
   "metadata": {},
   "outputs": [
    {
     "name": "stdout",
     "output_type": "stream",
     "text": [
      "0\n",
      "1\n",
      "2\n",
      "3\n",
      "4\n",
      "5\n"
     ]
    }
   ],
   "source": [
    "for i, batch in enumerate(test_loader):\n",
    "    print(i)"
   ]
  },
  {
   "cell_type": "code",
   "execution_count": null,
   "metadata": {},
   "outputs": [],
   "source": []
  }
 ],
 "metadata": {
  "kernelspec": {
   "display_name": "Python 3",
   "language": "python",
   "name": "python3"
  },
  "language_info": {
   "codemirror_mode": {
    "name": "ipython",
    "version": 3
   },
   "file_extension": ".py",
   "mimetype": "text/x-python",
   "name": "python",
   "nbconvert_exporter": "python",
   "pygments_lexer": "ipython3",
   "version": "3.5.2"
  }
 },
 "nbformat": 4,
 "nbformat_minor": 2
}
