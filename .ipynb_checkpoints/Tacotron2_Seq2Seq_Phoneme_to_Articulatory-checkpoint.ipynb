{
 "cells": [
  {
   "cell_type": "markdown",
   "metadata": {},
   "source": [
    "## from IPython.display import display, HTML\n",
    "with open('variables.css') as f:\n",
    "    css = f.read().replace(';', ' !important;')\n",
    "display(HTML('<style type=\"text/css\">%s</style>Customized changes loaded.'%css))"
   ]
  },
  {
   "cell_type": "code",
   "execution_count": 1,
   "metadata": {},
   "outputs": [
    {
     "name": "stderr",
     "output_type": "stream",
     "text": [
      "/usr/local/lib/python3.5/dist-packages/h5py/__init__.py:36: FutureWarning: Conversion of the second argument of issubdtype from `float` to `np.floating` is deprecated. In future, it will be treated as `np.float64 == np.dtype(float).type`.\n",
      "  from ._conv import register_converters as _register_converters\n",
      "Using TensorFlow backend.\n"
     ]
    }
   ],
   "source": [
    "# import os\n",
    "# os.environ['CUDA_VISIBLE_DEVICES'] = '1'\n",
    "import numpy as np\n",
    "import pandas as pd\n",
    "import sys\n",
    "import numpy\n",
    "import librosa\n",
    "import tensorflow as tf\n",
    "from collections import namedtuple\n",
    "import HTK\n",
    "from scipy.io import wavfile\n",
    "from tqdm import tqdm_notebook,tqdm,trange\n",
    "import matplotlib.pyplot as plt\n",
    "%matplotlib inline\n",
    "from scipy.io import loadmat\n",
    "import wave\n",
    "from pydub import AudioSegment\n",
    "import math\n",
    "from pydub.playback import play\n",
    "import scipy.io\n",
    "import os\n",
    "import keras\n",
    "from keras.layers import Input, Dense\n",
    "from keras.models import Model\n",
    "from keras.models import Sequential\n",
    "from keras.callbacks import ModelCheckpoint ,EarlyStopping\n",
    "from keras.layers.wrappers import Bidirectional\n",
    "from keras.layers.normalization import BatchNormalization\n",
    "from IPython import display\n",
    "from keras.layers import LSTM, Dropout, GRU, Convolution1D,  MaxPooling1D, Flatten,Reshape\n",
    "from tensorflow.keras.layers import Input, Dense, Dropout, TimeDistributed, GlobalAveragePooling1D,Input\n",
    "from keras.callbacks import EarlyStopping, ModelCheckpoint, ReduceLROnPlateau\n",
    "from keras import optimizers\n",
    "from tensorflow.nn.rnn_cell import LSTMStateTuple\n",
    "from tensorflow.contrib.rnn import OutputProjectionWrapper\n",
    "from tensorflow.python.framework import ops\n",
    "from copy import deepcopy\n",
    "from scipy.stats import pearsonr\n",
    "import matplotlib.pyplot as plt\n",
    "import torch\n",
    "from torch.utils.data import TensorDataset, DataLoader\n",
    "import pickle\n",
    "# tf.nn.rnn_cell.LSTMStateTuple\n",
    "\n",
    "\n",
    "\n",
    "\n",
    "from importlib import reload\n",
    "import main_classes\n",
    "reload(main_classes)\n",
    "import architecture\n",
    "reload(architecture)\n",
    "from architecture import *\n",
    "from main_classes import *\n",
    "\n",
    "%matplotlib inline"
   ]
  },
  {
   "cell_type": "markdown",
   "metadata": {},
   "source": [
    "## All Hyperparameters"
   ]
  },
  {
   "cell_type": "code",
   "execution_count": 2,
   "metadata": {},
   "outputs": [],
   "source": [
    "param_dict = {}\n",
    "param_dict['enc_conv_kernel_size'] = 5\n",
    "param_dict['enc_conv_channels'] = 512\n",
    "param_dict['drop_rate'] = 0.2\n",
    "param_dict['enc_conv_num_layers'] = 2\n",
    "param_dict['bnorm'] = 'after'\n",
    "param_dict['is_training'] = True\n",
    "param_dict['lstm_size'] = 256\n",
    "param_dict['zoneout'] = 0.1\n",
    "param = namedtuple('Main_Parmeters', param_dict.keys())(**param_dict)"
   ]
  },
  {
   "cell_type": "markdown",
   "metadata": {},
   "source": [
    "# Reading and Loading files"
   ]
  },
  {
   "cell_type": "code",
   "execution_count": 3,
   "metadata": {},
   "outputs": [],
   "source": [
    "WavDir='../../../DataBase/Ankur_C/Neutral/WavClean/'\n",
    "EmaDir='../../../DataBase/Ankur_C/Neutral/EmaClean/'\n",
    "AliDir='../../../DataBase/Ankur_C/Neutral/ForceAlign/'\n",
    "# BeginEndDir='../../../SPIRE_EMA/StartStopMat/'+Sub+'/';\n",
    "# MFCCpath='../../../SPIRE_EMA/DataBase/'+Sub+'/Neutral/MfccHTK/'\n",
    "\n",
    "emafiles=sorted(os.listdir(EmaDir))\n",
    "wavfiles=sorted(os.listdir(WavDir))\n",
    "alifiles=sorted(os.listdir(AliDir))"
   ]
  },
  {
   "cell_type": "code",
   "execution_count": 4,
   "metadata": {},
   "outputs": [
    {
     "data": {
      "application/vnd.jupyter.widget-view+json": {
       "model_id": "5fba53fccca9444292eaad8600952de8",
       "version_major": 2,
       "version_minor": 0
      },
      "text/plain": [
       "HBox(children=(IntProgress(value=0, max=460), HTML(value='')))"
      ]
     },
     "metadata": {},
     "output_type": "display_data"
    },
    {
     "name": "stdout",
     "output_type": "stream",
     "text": [
      "\n"
     ]
    },
    {
     "data": {
      "application/vnd.jupyter.widget-view+json": {
       "model_id": "8f1098836f644013ab53a7ae7fe42307",
       "version_major": 2,
       "version_minor": 0
      },
      "text/plain": [
       "HBox(children=(IntProgress(value=0, max=460), HTML(value='')))"
      ]
     },
     "metadata": {},
     "output_type": "display_data"
    },
    {
     "name": "stdout",
     "output_type": "stream",
     "text": [
      "\n"
     ]
    },
    {
     "data": {
      "application/vnd.jupyter.widget-view+json": {
       "model_id": "2dfd45bffce4404fb9c533d1274bb290",
       "version_major": 2,
       "version_minor": 0
      },
      "text/plain": [
       "HBox(children=(IntProgress(value=0, max=460), HTML(value='')))"
      ]
     },
     "metadata": {},
     "output_type": "display_data"
    },
    {
     "name": "stdout",
     "output_type": "stream",
     "text": [
      "\n"
     ]
    }
   ],
   "source": [
    "train_wav = [wavfile.read(WavDir+idx) for idx in tqdm_notebook(wavfiles)]\n",
    "train_ema = [loadmat(EmaDir+idx) for idx in tqdm_notebook(emafiles)]\n",
    "train_ali = [pd.read_csv(AliDir+idx,header=None) for idx in tqdm_notebook(alifiles)]"
   ]
  },
  {
   "cell_type": "markdown",
   "metadata": {},
   "source": [
    "## Pre-Processing files of phonemes"
   ]
  },
  {
   "cell_type": "code",
   "execution_count": 5,
   "metadata": {},
   "outputs": [
    {
     "name": "stderr",
     "output_type": "stream",
     "text": [
      "100%|██████████| 460/460 [00:00<00:00, 1680.77it/s]\n",
      "100%|██████████| 460/460 [00:00<00:00, 1341.29it/s]\n"
     ]
    }
   ],
   "source": [
    "phoneme=[]\n",
    "new_phoneme=[]\n",
    "set_phoneme=[]\n",
    "time_phoneme=[]\n",
    "time_sil=[]\n",
    "\n",
    "for i in trange(460):\n",
    "    phoneme.append(train_ali[i][0].map(lambda x:x.split()))\n",
    "    \n",
    "for i in trange(460):\n",
    "    new_phoneme.append(list(phoneme[i][1:-1].map(lambda x: x[2])))\n",
    "    time_phoneme.append(list(phoneme[i].map(lambda x: [float(x[0]),float(x[1])])))\n",
    "    set_phoneme.extend(list(phoneme[i][1:-1].map(lambda x: x[2])))"
   ]
  },
  {
   "cell_type": "markdown",
   "metadata": {},
   "source": [
    "###### Creating list of time, which we'll deduct from the trajectory. We don't wanna have trajectory of sound that's not in the phonemes"
   ]
  },
  {
   "cell_type": "code",
   "execution_count": 6,
   "metadata": {},
   "outputs": [
    {
     "name": "stderr",
     "output_type": "stream",
     "text": [
      "100%|██████████| 460/460 [00:00<00:00, 372754.99it/s]\n",
      "100%|██████████| 460/460 [00:00<00:00, 373115.42it/s]\n",
      "100%|██████████| 460/460 [00:00<00:00, 47590.83it/s]\n",
      "100%|██████████| 460/460 [00:00<00:00, 11924.69it/s]\n"
     ]
    }
   ],
   "source": [
    "begin=0\n",
    "end=0\n",
    "for i in trange(460):\n",
    "    begin=int(float(time_phoneme[i][0][1])*100)\n",
    "    end=int(float(time_phoneme[i][-1][0])*100)\n",
    "    time_sil.append([begin,end])\n",
    "    \n",
    "for i in trange(460):\n",
    "    time_phoneme[i]=time_phoneme[i][1:-1]\n",
    "    \n",
    "for i in trange(460):\n",
    "    time_phoneme[i]=(np.multiply(time_phoneme[i],100))\n",
    "    \n",
    "for i in trange(len(time_phoneme)):\n",
    "    time_phoneme[i]=list(map(lambda x:int(round(x[1]-x[0])),time_phoneme[i]))"
   ]
  },
  {
   "cell_type": "markdown",
   "metadata": {},
   "source": [
    "##### Creating dictionaries of words"
   ]
  },
  {
   "cell_type": "code",
   "execution_count": 7,
   "metadata": {},
   "outputs": [],
   "source": [
    "EOS=['</s>']\n",
    "SOS=['<s>']\n",
    "zero='0'\n",
    "set_phoneme.extend(EOS)\n",
    "set_phoneme.extend(SOS)\n",
    "set_phoneme.extend(zero)\n",
    "EOS='</s>'\n",
    "SOS='<s>'\n",
    "\n",
    "set_phoneme=set(set_phoneme)\n"
   ]
  },
  {
   "cell_type": "code",
   "execution_count": 8,
   "metadata": {},
   "outputs": [
    {
     "name": "stderr",
     "output_type": "stream",
     "text": [
      "100%|██████████| 460/460 [00:00<00:00, 98998.40it/s]\n"
     ]
    }
   ],
   "source": [
    "word_to_int={}\n",
    "int_to_word={}\n",
    "\n",
    "word_to_int=dict((y,x) for x,y in enumerate(set_phoneme))\n",
    "int_to_word=dict((x,y) for x,y in enumerate(set_phoneme))\n",
    "\n",
    "for i in trange(len(new_phoneme)):\n",
    "    for j in range(len(new_phoneme[i])):\n",
    "        new_phoneme[i][j]=word_to_int[new_phoneme[i][j]]\n",
    "\n",
    "copy_phoneme = deepcopy(new_phoneme)     "
   ]
  },
  {
   "cell_type": "code",
   "execution_count": 9,
   "metadata": {},
   "outputs": [],
   "source": [
    "maxlen_phoneme=max([len(new_phoneme[i]) for i in range(len(new_phoneme))])# largest length of a sentence is 62, and it's 331'th  item, which mean\"\n",
    "#it'll correspond to 332th subject note.\n",
    "# max([len(new_phoneme[i]) for i in range(len(new_phoneme))])"
   ]
  },
  {
   "cell_type": "code",
   "execution_count": 10,
   "metadata": {},
   "outputs": [
    {
     "name": "stderr",
     "output_type": "stream",
     "text": [
      "100%|██████████| 460/460 [00:00<00:00, 41801.28it/s]\n"
     ]
    }
   ],
   "source": [
    "for i in trange(np.shape(new_phoneme)[0]):\n",
    "    for _ in range(maxlen_phoneme-np.shape(new_phoneme[i])[0]):\n",
    "        new_phoneme[i].append(word_to_int[zero])"
   ]
  },
  {
   "cell_type": "code",
   "execution_count": 11,
   "metadata": {},
   "outputs": [
    {
     "name": "stderr",
     "output_type": "stream",
     "text": [
      "100%|██████████| 43/43 [00:00<00:00, 1062.66it/s]\n"
     ]
    }
   ],
   "source": [
    "embed_phoneme = np.empty((len(set_phoneme),100), dtype=np.float32)\n",
    "\n",
    "for i in trange(len(set_phoneme)):\n",
    "    for j in range(100):\n",
    "        embed_phoneme[i][j] = np.random.normal(loc=0, scale=1, size=1)[0]"
   ]
  },
  {
   "cell_type": "markdown",
   "metadata": {},
   "source": [
    "## Now,we're going to start processing EMA file"
   ]
  },
  {
   "cell_type": "code",
   "execution_count": 12,
   "metadata": {},
   "outputs": [
    {
     "data": {
      "text/plain": [
       "dict_keys(['__globals__', '__version__', 'EmaData', '__header__'])"
      ]
     },
     "execution_count": 12,
     "metadata": {},
     "output_type": "execute_result"
    }
   ],
   "source": [
    "train_ema[0].keys()\n",
    "#So each record in train_ema is a dictionary with following keys.Clearly, we're just interested in EmaData"
   ]
  },
  {
   "cell_type": "code",
   "execution_count": 13,
   "metadata": {},
   "outputs": [
    {
     "name": "stderr",
     "output_type": "stream",
     "text": [
      "100%|██████████| 460/460 [00:00<00:00, 1021376.30it/s]\n"
     ]
    }
   ],
   "source": [
    "ema=[]\n",
    "new_ema=[]\n",
    "\n",
    "for i in trange(460):\n",
    "    ema.append(train_ema[i]['EmaData'])"
   ]
  },
  {
   "cell_type": "code",
   "execution_count": 14,
   "metadata": {},
   "outputs": [
    {
     "name": "stderr",
     "output_type": "stream",
     "text": [
      "100%|██████████| 460/460 [00:00<00:00, 7365.59it/s]\n"
     ]
    }
   ],
   "source": [
    "for i in trange(460):\n",
    "    EMA_temp=ema[i]\n",
    "    EMA_temp=np.transpose(EMA_temp)# time X 18\n",
    "    Ema_temp2=np.delete(EMA_temp, [4,5,6,7,10,11],1) # time X 12 Supposedly these dimensions of information contains most data.\n",
    "    MeanOfData=np.mean(Ema_temp2,axis=0) \n",
    "    Ema_temp2-=MeanOfData\n",
    "    C=np.sqrt(np.mean(np.square(Ema_temp2),axis=0))\n",
    "    Ema=Ema_temp2#np.divide(Ema_temp2,C) # Mean remov & var normailized\n",
    "    [aE,bE]=Ema.shape\n",
    "    new_ema.append(Ema)"
   ]
  },
  {
   "cell_type": "code",
   "execution_count": 15,
   "metadata": {},
   "outputs": [
    {
     "name": "stderr",
     "output_type": "stream",
     "text": [
      "100%|██████████| 460/460 [00:00<00:00, 910084.83it/s]\n"
     ]
    },
    {
     "data": {
      "text/plain": [
       "672"
      ]
     },
     "execution_count": 15,
     "metadata": {},
     "output_type": "execute_result"
    }
   ],
   "source": [
    "max([new_ema[i].shape[0] for i in trange(460)])"
   ]
  },
  {
   "cell_type": "code",
   "execution_count": 16,
   "metadata": {},
   "outputs": [],
   "source": [
    "for i in range(460):\n",
    "    new_ema[i]=new_ema[i][time_sil[i][0]:time_sil[i][1]]"
   ]
  },
  {
   "cell_type": "code",
   "execution_count": 17,
   "metadata": {},
   "outputs": [],
   "source": [
    "for i in range(460):\n",
    "    new_ema[i]=np.transpose(new_ema[i])"
   ]
  },
  {
   "cell_type": "code",
   "execution_count": 18,
   "metadata": {},
   "outputs": [
    {
     "data": {
      "text/plain": [
       "(12, 151)"
      ]
     },
     "execution_count": 18,
     "metadata": {},
     "output_type": "execute_result"
    }
   ],
   "source": [
    "np.shape(new_ema[0])"
   ]
  },
  {
   "cell_type": "code",
   "execution_count": 19,
   "metadata": {},
   "outputs": [],
   "source": [
    "dec_ema=new_ema.copy()\n"
   ]
  },
  {
   "cell_type": "code",
   "execution_count": 20,
   "metadata": {},
   "outputs": [
    {
     "name": "stderr",
     "output_type": "stream",
     "text": [
      "100%|██████████| 460/460 [00:00<00:00, 1551.17it/s]\n"
     ]
    }
   ],
   "source": [
    "max_len_ema=max([new_ema[i].shape[1] for i in range(460)]) #Value is 466, which happens to be the same value \n",
    "putt=np.full((12, 1), word_to_int[zero])\n",
    "target=[]\n",
    "\n",
    "\n",
    "for i in trange(460):\n",
    "    for j in range(max_len_ema -new_ema[i].shape[1]):\n",
    "        new_ema[i]=np.concatenate((new_ema[i],putt),axis=1)\n",
    "    new_ema[i]=np.transpose(new_ema[i])\n",
    "    target.append(new_ema[i][:])\n",
    "    \n",
    "#Yeah, I know train and one_hot_phoneme are same, yet it's there.\n",
    "\n",
    "\n",
    "    "
   ]
  },
  {
   "cell_type": "markdown",
   "metadata": {},
   "source": [
    "### So our final data is"
   ]
  },
  {
   "cell_type": "code",
   "execution_count": 21,
   "metadata": {},
   "outputs": [
    {
     "name": "stdout",
     "output_type": "stream",
     "text": [
      "(460, 60)\n"
     ]
    }
   ],
   "source": [
    "#The data list of all trajectory is\n",
    "''' new_ema'''\n",
    "\n",
    "#The data list for all phonemes is\n",
    "'''new_phoneme'''\n",
    "print(np.shape(new_phoneme))\n"
   ]
  },
  {
   "cell_type": "code",
   "execution_count": 22,
   "metadata": {},
   "outputs": [
    {
     "data": {
      "text/plain": [
       "(466, 12)"
      ]
     },
     "execution_count": 22,
     "metadata": {},
     "output_type": "execute_result"
    }
   ],
   "source": [
    "np.shape(target[1])"
   ]
  },
  {
   "cell_type": "markdown",
   "metadata": {},
   "source": [
    "##### We wanna divide dataset according to cross validation"
   ]
  },
  {
   "cell_type": "code",
   "execution_count": 23,
   "metadata": {
    "scrolled": false
   },
   "outputs": [],
   "source": [
    "xtrain=[]; xtarget=[]; idd=[]\n",
    "ttrain=[]; ttarget=[]; tlen = []\n",
    "vtrain=[]; vtarget=[]\n",
    "sos_put= np.full((12, 1), float(word_to_int[SOS]))\n",
    "eos_put= np.full((12, 1), float(word_to_int[EOS]))\n",
    "# sos_put = list(np.ones(12) * float(word_to_int[SOS]))\n",
    "\n",
    "\n",
    "F=10\n",
    "for i in np.arange(0,460):\n",
    "    if (((i+F)%10)==0):  #Test\n",
    "        ttarget.append(target[i])\n",
    "        ttrain.append(new_phoneme[i])\n",
    "        tlen.append(np.shape(copy_phoneme[i])[0])\n",
    "        \n",
    "\n",
    "#     elif (((i+F+1)%10)==0): #Validation\n",
    "#         vtarget.append(target[i])\n",
    "#         vtrain.append(new_phoneme[i])\n",
    "       \n",
    "    else: # Train\n",
    "        xtarget.append(target[i])\n",
    "        xtrain.append(new_phoneme[i])\n",
    "#         xlen.append(enc_len[i])\n",
    "        idd.append(i)\n",
    "        \n",
    "        \n",
    "        \n",
    "xtrain  = np.array(xtrain)\n",
    "xtarget = np.array(xtarget)\n",
    "ttrain = np.array(ttrain)\n",
    "ttarget = np.array(ttarget)\n",
    "vtrain = np.array(vtrain)\n",
    "vtarget = np.array(vtarget)\n",
    "# xlen = np.array(xlen)\n",
    "idd = np.array(idd)"
   ]
  },
  {
   "cell_type": "code",
   "execution_count": 24,
   "metadata": {},
   "outputs": [
    {
     "data": {
      "text/plain": [
       "(414, 60)"
      ]
     },
     "execution_count": 24,
     "metadata": {},
     "output_type": "execute_result"
    }
   ],
   "source": [
    "xtrain.shape"
   ]
  },
  {
   "cell_type": "code",
   "execution_count": 25,
   "metadata": {},
   "outputs": [
    {
     "data": {
      "text/plain": [
       "(12, 151)"
      ]
     },
     "execution_count": 25,
     "metadata": {},
     "output_type": "execute_result"
    }
   ],
   "source": [
    "np.shape(dec_ema[0])"
   ]
  },
  {
   "cell_type": "raw",
   "metadata": {},
   "source": [
    "dec_in = np.array([])\n",
    "dec_len = np.array([])\n",
    "enc_len = np.array([])\n",
    "\n",
    "\n",
    "for i in range(xtrain.shape[0]):\n",
    "    dec_len=np.append(dec_len, dec_ema[idd[i]].shape[1] + 2)\n",
    "    enc_len = np.append(enc_len, np.shape(copy_phoneme[idd[i]])[0])\n",
    "    woo = np.hstack((sos_put, dec_ema[idd[i]]))\n",
    "    \n",
    "    for j in range(max_len_art+2 - dec_ema[idd[i]].shape[1]-1):\n",
    "        woo = np.hstack((woo, eos_put))\n",
    "    \n",
    "    dec_in = np.append(dec_in, np.asarray(np.transpose(woo)))\n",
    "    \n",
    "    \n",
    "# new_ema[i]=np.concatenate((new_ema[i],putt),axis=1)"
   ]
  },
  {
   "cell_type": "code",
   "execution_count": 27,
   "metadata": {},
   "outputs": [
    {
     "ename": "ImportError",
     "evalue": "No module named 'hparams'",
     "output_type": "error",
     "traceback": [
      "\u001b[0;31m---------------------------------------------------------------------------\u001b[0m",
      "\u001b[0;31mImportError\u001b[0m                               Traceback (most recent call last)",
      "\u001b[0;32m<ipython-input-27-f2e745486b19>\u001b[0m in \u001b[0;36m<module>\u001b[0;34m\u001b[0m\n\u001b[1;32m     10\u001b[0m \u001b[0;32mimport\u001b[0m \u001b[0mtorch\u001b[0m\u001b[0;34m\u001b[0m\u001b[0m\n\u001b[1;32m     11\u001b[0m \u001b[0;34m\u001b[0m\u001b[0m\n\u001b[0;32m---> 12\u001b[0;31m \u001b[0;32mfrom\u001b[0m \u001b[0mhparams\u001b[0m \u001b[0;32mimport\u001b[0m \u001b[0mcreate_hparams\u001b[0m\u001b[0;34m\u001b[0m\u001b[0m\n\u001b[0m\u001b[1;32m     13\u001b[0m \u001b[0;32mfrom\u001b[0m \u001b[0mmodel\u001b[0m \u001b[0;32mimport\u001b[0m \u001b[0mTacotron2\u001b[0m\u001b[0;34m\u001b[0m\u001b[0m\n\u001b[1;32m     14\u001b[0m \u001b[0;31m# from layers import TacotronSTFT\u001b[0m\u001b[0;34m\u001b[0m\u001b[0;34m\u001b[0m\u001b[0m\n",
      "\u001b[0;31mImportError\u001b[0m: No module named 'hparams'"
     ]
    }
   ],
   "source": [
    "import matplotlib\n",
    "matplotlib.use(\"Agg\")\n",
    "import matplotlib.pylab as plt\n",
    "%matplotlib inline\n",
    "import IPython.display as ipd\n",
    "\n",
    "import sys\n",
    "sys.path.append('waveglow/')\n",
    "import numpy as np\n",
    "import torch\n",
    "\n",
    "from hparams import create_hparams\n",
    "from model import Tacotron2\n",
    "# from layers import TacotronSTFT\n",
    "from audio_processing import griffin_lim\n",
    "from train import load_model\n",
    "from text import text_to_sequence\n"
   ]
  },
  {
   "cell_type": "code",
   "execution_count": 3,
   "metadata": {},
   "outputs": [],
   "source": [
    "def plot_data(data, figsize=(16, 4)):\n",
    "    fig, axes = plt.subplots(1, len(data), figsize=figsize)\n",
    "    for i in range(len(data)):\n",
    "        axes[i].imshow(data[i], aspect='auto', origin='bottom', \n",
    "                       interpolation='none')"
   ]
  },
  {
   "cell_type": "markdown",
   "metadata": {},
   "source": [
    "#### Setup hparams"
   ]
  },
  {
   "cell_type": "code",
   "execution_count": 4,
   "metadata": {},
   "outputs": [],
   "source": [
    "hparams = create_hparams()\n",
    "hparams.sampling_rate = 22050"
   ]
  },
  {
   "cell_type": "markdown",
   "metadata": {},
   "source": [
    "#### Load model from checkpoint"
   ]
  },
  {
   "cell_type": "code",
   "execution_count": 11,
   "metadata": {},
   "outputs": [],
   "source": [
    "checkpoint_path = \"waveglow/checkpoint_36000\"\n",
    "model = load_model(hparams)\n",
    "model.load_state_dict(torch.load(checkpoint_path)['state_dict'])\n",
    "_ = model.eval()"
   ]
  },
  {
   "cell_type": "markdown",
   "metadata": {},
   "source": [
    "#### Prepare text input"
   ]
  },
  {
   "cell_type": "code",
   "execution_count": 6,
   "metadata": {},
   "outputs": [],
   "source": [
    "text = \"Waveglow is really awesome!\"\n",
    "sequence = np.array(text_to_sequence(text, ['english_cleaners']))[None, :]\n",
    "sequence = torch.autograd.Variable(\n",
    "    torch.from_numpy(sequence)).cuda().long()"
   ]
  },
  {
   "cell_type": "code",
   "execution_count": 30,
   "metadata": {},
   "outputs": [],
   "source": [
    "dec_in = dec_in.reshape((xtrain.shape[0], -1 , 12))\n"
   ]
  },
  {
   "cell_type": "code",
   "execution_count": 31,
   "metadata": {},
   "outputs": [
    {
     "data": {
      "text/plain": [
       "(414, 468, 12)"
      ]
     },
     "execution_count": 31,
     "metadata": {},
     "output_type": "execute_result"
    }
   ],
   "source": [
    "np.shape(dec_in)"
   ]
  },
  {
   "cell_type": "code",
   "execution_count": 32,
   "metadata": {},
   "outputs": [
    {
     "data": {
      "text/plain": [
       "(414, 60)"
      ]
     },
     "execution_count": 32,
     "metadata": {},
     "output_type": "execute_result"
    }
   ],
   "source": [
    "np.shape(xtrain)"
   ]
  },
  {
   "cell_type": "code",
   "execution_count": 33,
   "metadata": {},
   "outputs": [
    {
     "data": {
      "text/plain": [
       "(414,)"
      ]
     },
     "execution_count": 33,
     "metadata": {},
     "output_type": "execute_result"
    }
   ],
   "source": [
    "np.shape(dec_len)"
   ]
  },
  {
   "cell_type": "markdown",
   "metadata": {},
   "source": [
    "#### Default Parameters"
   ]
  },
  {
   "cell_type": "code",
   "execution_count": 34,
   "metadata": {},
   "outputs": [
    {
     "name": "stdout",
     "output_type": "stream",
     "text": [
      "Shape of train is.. (50, 60)\n",
      "Shape of target is.. (50, 466, 12)\n",
      "Shape of decoder input is.. (50, 468, 12)\n",
      "Shape of Enc Len is.. (50,)\n",
      "shape of Dec Len is.. (50,)\n"
     ]
    }
   ],
   "source": [
    "''' Parameters '''\n",
    "tf.reset_default_graph()\n",
    "\n",
    "batch = 50\n",
    "\n",
    "data = TensorDataset(torch.from_numpy(xtrain), torch.from_numpy(xtarget), torch.from_numpy(dec_in), torch.from_numpy(enc_len), torch.from_numpy(dec_len))\n",
    "# dec_in = TensorDataset(torch.from_numpy())\n",
    "\n",
    "data_loader = DataLoader(data, shuffle = True, batch_size= batch)\n",
    "\n",
    "\n",
    "dataiter = iter(data_loader)\n",
    "\n",
    "trn, tag, dec, en, dn = next(dataiter)\n",
    "print(\"Shape of train is..\",trn.numpy().shape)\n",
    "print(\"Shape of target is..\",tag.numpy().shape)\n",
    "print(\"Shape of decoder input is..\",dec.numpy().shape)\n",
    "print(\"Shape of Enc Len is..\",en.numpy().shape)\n",
    "print(\"shape of Dec Len is..\",dn.numpy().shape)\n"
   ]
  },
  {
   "cell_type": "code",
   "execution_count": 35,
   "metadata": {},
   "outputs": [],
   "source": [
    "encoder_input = tf.placeholder(dtype = tf.int32, shape=[None, None])\n",
    "# emb_input = tf.placeholder(dtype = tf.int32, shape = [None, None, None])\n",
    "hol_enc_len = tf.placeholder(dtype = tf.int32, shape=[None])\n",
    "decoder_input = tf.placeholder(dtype = tf.float32, shape=[None , None , 12])\n",
    "dec_inf = tf.placeholder(dtype = tf.int32, shape = [None, None])\n",
    "hol_dec_len = tf.placeholder(dtype = tf.int32, shape=[None])\n",
    "dec_target = tf.placeholder(dtype = tf.float32, shape = [None, 466, 12])\n",
    "# decoder_target = tf.placeholder(dtype = tf.int32, shape = [None, None , 12])"
   ]
  },
  {
   "cell_type": "code",
   "execution_count": 36,
   "metadata": {},
   "outputs": [],
   "source": [
    "#embedding input for encoder\n",
    "emb_enc_input = tf.nn.embedding_lookup(embed_phoneme,encoder_input)"
   ]
  },
  {
   "cell_type": "markdown",
   "metadata": {},
   "source": [
    "# Starting TacoTron2 Seq2Seq"
   ]
  },
  {
   "cell_type": "markdown",
   "metadata": {},
   "source": [
    "### Constructing Encoder Part\n",
    "\n",
    "<br>\n",
    "\n",
    "\n",
    "\n"
   ]
  },
  {
   "cell_type": "code",
   "execution_count": 38,
   "metadata": {},
   "outputs": [],
   "source": [
    "def initializer():\n",
    "        \n",
    "        #Encoder part\n",
    "        \n",
    "        encoder_cell = AAI_encoder(encoderconvolutions(param.is_training, hparams=param),\n",
    "                                   encoderRNN(param.is_training, size = param.lstm_size, zoneout = param.zoneout)\n",
    "                                  )\n",
    "        encoder_outputs = encoder_cell(emb_enc_input, hol_enc_len)\n",
    "        \n",
    "        #Decoder part\n",
    "        \n",
    "        \n",
    "        \n",
    "        \n",
    "    "
   ]
  },
  {
   "cell_type": "code",
   "execution_count": null,
   "metadata": {},
   "outputs": [],
   "source": []
  },
  {
   "cell_type": "code",
   "execution_count": null,
   "metadata": {},
   "outputs": [],
   "source": []
  },
  {
   "cell_type": "code",
   "execution_count": null,
   "metadata": {},
   "outputs": [],
   "source": []
  },
  {
   "cell_type": "code",
   "execution_count": null,
   "metadata": {},
   "outputs": [],
   "source": []
  },
  {
   "cell_type": "code",
   "execution_count": null,
   "metadata": {},
   "outputs": [],
   "source": []
  },
  {
   "cell_type": "code",
   "execution_count": null,
   "metadata": {},
   "outputs": [],
   "source": []
  },
  {
   "cell_type": "code",
   "execution_count": null,
   "metadata": {},
   "outputs": [],
   "source": []
  },
  {
   "cell_type": "code",
   "execution_count": null,
   "metadata": {},
   "outputs": [],
   "source": []
  },
  {
   "cell_type": "code",
   "execution_count": null,
   "metadata": {},
   "outputs": [],
   "source": []
  },
  {
   "cell_type": "code",
   "execution_count": null,
   "metadata": {},
   "outputs": [],
   "source": []
  },
  {
   "cell_type": "code",
   "execution_count": null,
   "metadata": {},
   "outputs": [],
   "source": []
  },
  {
   "cell_type": "code",
   "execution_count": null,
   "metadata": {},
   "outputs": [],
   "source": []
  },
  {
   "cell_type": "code",
   "execution_count": null,
   "metadata": {},
   "outputs": [],
   "source": []
  },
  {
   "cell_type": "code",
   "execution_count": null,
   "metadata": {},
   "outputs": [],
   "source": []
  },
  {
   "cell_type": "code",
   "execution_count": null,
   "metadata": {},
   "outputs": [],
   "source": []
  },
  {
   "cell_type": "code",
   "execution_count": null,
   "metadata": {},
   "outputs": [],
   "source": []
  },
  {
   "cell_type": "code",
   "execution_count": null,
   "metadata": {},
   "outputs": [],
   "source": []
  },
  {
   "cell_type": "code",
   "execution_count": null,
   "metadata": {},
   "outputs": [],
   "source": []
  },
  {
   "cell_type": "code",
   "execution_count": null,
   "metadata": {},
   "outputs": [],
   "source": []
  },
  {
   "cell_type": "code",
   "execution_count": null,
   "metadata": {},
   "outputs": [],
   "source": []
  },
  {
   "cell_type": "code",
   "execution_count": null,
   "metadata": {},
   "outputs": [],
   "source": []
  },
  {
   "cell_type": "code",
   "execution_count": null,
   "metadata": {},
   "outputs": [],
   "source": []
  },
  {
   "cell_type": "code",
   "execution_count": null,
   "metadata": {},
   "outputs": [],
   "source": []
  },
  {
   "cell_type": "code",
   "execution_count": null,
   "metadata": {},
   "outputs": [],
   "source": []
  },
  {
   "cell_type": "code",
   "execution_count": null,
   "metadata": {},
   "outputs": [],
   "source": []
  },
  {
   "cell_type": "code",
   "execution_count": null,
   "metadata": {},
   "outputs": [],
   "source": []
  },
  {
   "cell_type": "code",
   "execution_count": null,
   "metadata": {},
   "outputs": [],
   "source": []
  },
  {
   "cell_type": "code",
   "execution_count": null,
   "metadata": {},
   "outputs": [],
   "source": []
  },
  {
   "cell_type": "code",
   "execution_count": null,
   "metadata": {},
   "outputs": [],
   "source": []
  },
  {
   "cell_type": "code",
   "execution_count": null,
   "metadata": {},
   "outputs": [],
   "source": []
  },
  {
   "cell_type": "code",
   "execution_count": null,
   "metadata": {},
   "outputs": [],
   "source": []
  },
  {
   "cell_type": "code",
   "execution_count": null,
   "metadata": {},
   "outputs": [],
   "source": []
  },
  {
   "cell_type": "code",
   "execution_count": null,
   "metadata": {},
   "outputs": [],
   "source": []
  },
  {
   "cell_type": "code",
   "execution_count": null,
   "metadata": {},
   "outputs": [],
   "source": []
  },
  {
   "cell_type": "code",
   "execution_count": null,
   "metadata": {},
   "outputs": [],
   "source": []
  },
  {
   "cell_type": "code",
   "execution_count": null,
   "metadata": {},
   "outputs": [],
   "source": []
  },
  {
   "cell_type": "code",
   "execution_count": null,
   "metadata": {},
   "outputs": [],
   "source": []
  },
  {
   "cell_type": "code",
   "execution_count": null,
   "metadata": {},
   "outputs": [],
   "source": []
  },
  {
   "cell_type": "code",
   "execution_count": null,
   "metadata": {},
   "outputs": [],
   "source": []
  },
  {
   "cell_type": "code",
   "execution_count": null,
   "metadata": {},
   "outputs": [],
   "source": []
  },
  {
   "cell_type": "code",
   "execution_count": null,
   "metadata": {},
   "outputs": [],
   "source": []
  },
  {
   "cell_type": "code",
   "execution_count": null,
   "metadata": {},
   "outputs": [],
   "source": []
  },
  {
   "cell_type": "code",
   "execution_count": null,
   "metadata": {},
   "outputs": [],
   "source": []
  },
  {
   "cell_type": "code",
   "execution_count": null,
   "metadata": {},
   "outputs": [],
   "source": []
  },
  {
   "cell_type": "code",
   "execution_count": null,
   "metadata": {},
   "outputs": [],
   "source": []
  },
  {
   "cell_type": "code",
   "execution_count": null,
   "metadata": {},
   "outputs": [],
   "source": []
  },
  {
   "cell_type": "code",
   "execution_count": null,
   "metadata": {},
   "outputs": [],
   "source": []
  },
  {
   "cell_type": "code",
   "execution_count": null,
   "metadata": {},
   "outputs": [],
   "source": []
  },
  {
   "cell_type": "code",
   "execution_count": null,
   "metadata": {},
   "outputs": [],
   "source": []
  },
  {
   "cell_type": "code",
   "execution_count": null,
   "metadata": {},
   "outputs": [],
   "source": []
  },
  {
   "cell_type": "code",
   "execution_count": null,
   "metadata": {},
   "outputs": [],
   "source": []
  },
  {
   "cell_type": "code",
   "execution_count": null,
   "metadata": {},
   "outputs": [],
   "source": []
  },
  {
   "cell_type": "code",
   "execution_count": null,
   "metadata": {},
   "outputs": [],
   "source": []
  },
  {
   "cell_type": "code",
   "execution_count": null,
   "metadata": {},
   "outputs": [],
   "source": []
  },
  {
   "cell_type": "code",
   "execution_count": null,
   "metadata": {},
   "outputs": [],
   "source": []
  },
  {
   "cell_type": "code",
   "execution_count": null,
   "metadata": {},
   "outputs": [],
   "source": []
  },
  {
   "cell_type": "code",
   "execution_count": null,
   "metadata": {},
   "outputs": [],
   "source": []
  },
  {
   "cell_type": "code",
   "execution_count": null,
   "metadata": {},
   "outputs": [],
   "source": []
  },
  {
   "cell_type": "code",
   "execution_count": null,
   "metadata": {},
   "outputs": [],
   "source": []
  },
  {
   "cell_type": "code",
   "execution_count": null,
   "metadata": {},
   "outputs": [],
   "source": []
  },
  {
   "cell_type": "code",
   "execution_count": null,
   "metadata": {},
   "outputs": [],
   "source": []
  },
  {
   "cell_type": "code",
   "execution_count": null,
   "metadata": {},
   "outputs": [],
   "source": []
  },
  {
   "cell_type": "code",
   "execution_count": null,
   "metadata": {},
   "outputs": [],
   "source": []
  },
  {
   "cell_type": "code",
   "execution_count": null,
   "metadata": {},
   "outputs": [],
   "source": []
  },
  {
   "cell_type": "code",
   "execution_count": null,
   "metadata": {},
   "outputs": [],
   "source": []
  },
  {
   "cell_type": "code",
   "execution_count": null,
   "metadata": {},
   "outputs": [],
   "source": []
  },
  {
   "cell_type": "code",
   "execution_count": null,
   "metadata": {},
   "outputs": [],
   "source": []
  },
  {
   "cell_type": "code",
   "execution_count": null,
   "metadata": {},
   "outputs": [],
   "source": []
  },
  {
   "cell_type": "code",
   "execution_count": null,
   "metadata": {},
   "outputs": [],
   "source": []
  },
  {
   "cell_type": "code",
   "execution_count": null,
   "metadata": {},
   "outputs": [],
   "source": []
  },
  {
   "cell_type": "code",
   "execution_count": null,
   "metadata": {},
   "outputs": [],
   "source": []
  },
  {
   "cell_type": "code",
   "execution_count": null,
   "metadata": {},
   "outputs": [],
   "source": []
  },
  {
   "cell_type": "code",
   "execution_count": null,
   "metadata": {},
   "outputs": [],
   "source": []
  },
  {
   "cell_type": "code",
   "execution_count": null,
   "metadata": {},
   "outputs": [],
   "source": []
  },
  {
   "cell_type": "code",
   "execution_count": null,
   "metadata": {},
   "outputs": [],
   "source": []
  },
  {
   "cell_type": "code",
   "execution_count": null,
   "metadata": {},
   "outputs": [],
   "source": []
  },
  {
   "cell_type": "code",
   "execution_count": null,
   "metadata": {},
   "outputs": [],
   "source": []
  },
  {
   "cell_type": "code",
   "execution_count": null,
   "metadata": {},
   "outputs": [],
   "source": []
  },
  {
   "cell_type": "code",
   "execution_count": null,
   "metadata": {},
   "outputs": [],
   "source": []
  },
  {
   "cell_type": "code",
   "execution_count": null,
   "metadata": {},
   "outputs": [],
   "source": []
  },
  {
   "cell_type": "code",
   "execution_count": null,
   "metadata": {},
   "outputs": [],
   "source": []
  },
  {
   "cell_type": "code",
   "execution_count": null,
   "metadata": {},
   "outputs": [],
   "source": []
  },
  {
   "cell_type": "code",
   "execution_count": null,
   "metadata": {},
   "outputs": [],
   "source": []
  },
  {
   "cell_type": "code",
   "execution_count": null,
   "metadata": {},
   "outputs": [],
   "source": []
  },
  {
   "cell_type": "code",
   "execution_count": null,
   "metadata": {},
   "outputs": [],
   "source": []
  },
  {
   "cell_type": "code",
   "execution_count": null,
   "metadata": {},
   "outputs": [],
   "source": []
  },
  {
   "cell_type": "code",
   "execution_count": null,
   "metadata": {},
   "outputs": [],
   "source": []
  },
  {
   "cell_type": "code",
   "execution_count": null,
   "metadata": {},
   "outputs": [],
   "source": []
  },
  {
   "cell_type": "markdown",
   "metadata": {},
   "source": [
    "### Starting contruction of Model"
   ]
  },
  {
   "cell_type": "code",
   "execution_count": 59,
   "metadata": {},
   "outputs": [],
   "source": [
    "with tf.variable_scope('LSTM'):\n",
    "    encoder_fw = [tf.nn.rnn_cell.LSTMCell(num_units=no_units, initializer=tf.keras.initializers.glorot_normal(), state_is_tuple=True)]\n",
    "    encoder_bw = [tf.nn.rnn_cell.LSTMCell(num_units=no_units, initializer=tf.keras.initializers.glorot_normal(), state_is_tuple=True)]\n",
    "\n",
    "    for i in range(1,3):\n",
    "\n",
    "        encoder_fw.append(tf.nn.rnn_cell.MultiRNNCell([tf.nn.rnn_cell.LSTMCell(num_units=no_units, initializer=tf.keras.initializers.glorot_normal(), state_is_tuple=True)]))\n",
    "        encoder_bw.append(tf.nn.rnn_cell.MultiRNNCell([tf.nn.rnn_cell.LSTMCell(num_units=no_units, initializer=tf.keras.initializers.glorot_normal(), state_is_tuple=True)]))\n"
   ]
  },
  {
   "cell_type": "code",
   "execution_count": 60,
   "metadata": {},
   "outputs": [],
   "source": [
    "\n",
    "\n",
    "encoder_outputs, encoder_fw_state, encoder_bw_state = tf.contrib.rnn.stack_bidirectional_dynamic_rnn(\n",
    "                                                                           cells_fw = encoder_fw,\n",
    "                                                                           cells_bw = encoder_bw,\n",
    "                                                                           inputs = emb_enc_input,\n",
    "                                                                            sequence_length=hol_enc_len,\n",
    "                                                                            dtype = tf.float32\n",
    "                                                                          )"
   ]
  },
  {
   "cell_type": "code",
   "execution_count": 61,
   "metadata": {},
   "outputs": [
    {
     "data": {
      "text/plain": [
       "<tf.Tensor 'stack_bidirectional_rnn/cell_2/concat:0' shape=(?, ?, 140) dtype=float32>"
      ]
     },
     "execution_count": 61,
     "metadata": {},
     "output_type": "execute_result"
    }
   ],
   "source": [
    "encoder_outputs"
   ]
  },
  {
   "cell_type": "code",
   "execution_count": 62,
   "metadata": {},
   "outputs": [
    {
     "data": {
      "text/plain": [
       "<tf.Tensor 'stack_bidirectional_rnn/cell_2/bidirectional_rnn/bw/bw/while/Exit_3:0' shape=(?, 70) dtype=float32>"
      ]
     },
     "execution_count": 62,
     "metadata": {},
     "output_type": "execute_result"
    }
   ],
   "source": [
    "encoder_bw_state[-1][0].c\n"
   ]
  },
  {
   "cell_type": "code",
   "execution_count": 63,
   "metadata": {},
   "outputs": [
    {
     "data": {
      "text/plain": [
       "<tf.Tensor 'stack_bidirectional_rnn/cell_2/bidirectional_rnn/fw/fw/while/Exit_3:0' shape=(?, 70) dtype=float32>"
      ]
     },
     "execution_count": 63,
     "metadata": {},
     "output_type": "execute_result"
    }
   ],
   "source": [
    "encoder_fw_state[-1][0].c"
   ]
  },
  {
   "cell_type": "code",
   "execution_count": 64,
   "metadata": {},
   "outputs": [
    {
     "data": {
      "text/plain": [
       "(LSTMStateTuple(c=<tf.Tensor 'stack_bidirectional_rnn/cell_0/bidirectional_rnn/bw/bw/while/Exit_3:0' shape=(?, 70) dtype=float32>, h=<tf.Tensor 'stack_bidirectional_rnn/cell_0/bidirectional_rnn/bw/bw/while/Exit_4:0' shape=(?, 70) dtype=float32>),\n",
       " (LSTMStateTuple(c=<tf.Tensor 'stack_bidirectional_rnn/cell_1/bidirectional_rnn/bw/bw/while/Exit_3:0' shape=(?, 70) dtype=float32>, h=<tf.Tensor 'stack_bidirectional_rnn/cell_1/bidirectional_rnn/bw/bw/while/Exit_4:0' shape=(?, 70) dtype=float32>),),\n",
       " (LSTMStateTuple(c=<tf.Tensor 'stack_bidirectional_rnn/cell_2/bidirectional_rnn/bw/bw/while/Exit_3:0' shape=(?, 70) dtype=float32>, h=<tf.Tensor 'stack_bidirectional_rnn/cell_2/bidirectional_rnn/bw/bw/while/Exit_4:0' shape=(?, 70) dtype=float32>),))"
      ]
     },
     "execution_count": 64,
     "metadata": {},
     "output_type": "execute_result"
    }
   ],
   "source": [
    "encoder_bw_state"
   ]
  },
  {
   "cell_type": "markdown",
   "metadata": {},
   "source": [
    "Have to concatenate forward and backward outputs and state. In this case we will not discard outputs, they would be used for attention."
   ]
  },
  {
   "cell_type": "code",
   "execution_count": 65,
   "metadata": {},
   "outputs": [],
   "source": [
    "# encoder_outputs = tf.concat((encoder_fw_output, encoder_bw_output), 2)\n",
    "\n",
    "encoder_state_c = tf.concat((encoder_fw_state[-1][0].c, encoder_bw_state[-1][0].c), 1)\n",
    "\n",
    "encoder_state_h = tf.concat((encoder_fw_state[-1][0].h, encoder_bw_state[-1][0].h), 1)\n",
    "\n",
    "encoder_final_state = LSTMStateTuple(\n",
    "    c=encoder_state_c,\n",
    "    h=encoder_state_h\n",
    ")"
   ]
  },
  {
   "cell_type": "code",
   "execution_count": 66,
   "metadata": {},
   "outputs": [
    {
     "data": {
      "text/plain": [
       "TensorShape([Dimension(None), Dimension(None), Dimension(140)])"
      ]
     },
     "execution_count": 66,
     "metadata": {},
     "output_type": "execute_result"
    }
   ],
   "source": [
    "encoder_outputs.shape"
   ]
  },
  {
   "cell_type": "markdown",
   "metadata": {},
   "source": [
    "##### We need encoder length and decoder length"
   ]
  },
  {
   "cell_type": "code",
   "execution_count": 67,
   "metadata": {},
   "outputs": [
    {
     "data": {
      "text/plain": [
       "(43, 100)"
      ]
     },
     "execution_count": 67,
     "metadata": {},
     "output_type": "execute_result"
    }
   ],
   "source": [
    "np.shape(embed_phoneme)"
   ]
  },
  {
   "cell_type": "code",
   "execution_count": 68,
   "metadata": {},
   "outputs": [
    {
     "data": {
      "text/plain": [
       "<tf.Tensor 'stack_bidirectional_rnn/cell_2/concat:0' shape=(?, ?, 140) dtype=float32>"
      ]
     },
     "execution_count": 68,
     "metadata": {},
     "output_type": "execute_result"
    }
   ],
   "source": [
    "encoder_outputs"
   ]
  },
  {
   "cell_type": "markdown",
   "metadata": {},
   "source": [
    "## Making Decoder "
   ]
  },
  {
   "cell_type": "code",
   "execution_count": 69,
   "metadata": {},
   "outputs": [],
   "source": [
    "helper=tf.contrib.seq2seq.TrainingHelper(decoder_input,hol_dec_len)\n",
    "# helper=tf.contrib.seq2seq.TrainingHelper(decoder_input,hol_dec_len)"
   ]
  },
  {
   "cell_type": "code",
   "execution_count": 70,
   "metadata": {},
   "outputs": [],
   "source": [
    "decoder_cell=tf.nn.rnn_cell.LSTMCell(num_units=no_units* 2, initializer=tf.keras.initializers.glorot_normal())"
   ]
  },
  {
   "cell_type": "code",
   "execution_count": 71,
   "metadata": {},
   "outputs": [],
   "source": [
    "attention_mechanism = tf.contrib.seq2seq.LuongAttention(\n",
    "                                            no_units * 2, encoder_outputs, memory_sequence_length= None)\n",
    "decoder_cell = tf.contrib.seq2seq.AttentionWrapper(\n",
    "                        decoder_cell, attention_mechanism, attention_layer_size= no_units * 2)\n",
    "\n",
    "initial_state = decoder_cell.zero_state(np.shape(trn)[0],  tf.float32).clone(cell_state = encoder_final_state)\n",
    "\n",
    "# decoder_cell = tf.nn.rnn_cell.LSTMCell(num_units= no_units * 2)\n",
    "# initial_state = encoder_final_state"
   ]
  },
  {
   "cell_type": "code",
   "execution_count": 72,
   "metadata": {},
   "outputs": [],
   "source": [
    "projection_layer = tf.layers.Dense(12)\n",
    "\n",
    "decoder=tf.contrib.seq2seq.BasicDecoder(decoder_cell,\n",
    "                                   helper,\n",
    "                                    initial_state,\n",
    "                                    output_layer = projection_layer\n",
    "                                  )"
   ]
  },
  {
   "cell_type": "code",
   "execution_count": 73,
   "metadata": {},
   "outputs": [],
   "source": [
    "(final_rnn_output, final_sample_id), final_state, final_seq_len = tf.contrib.seq2seq.dynamic_decode(decoder\n",
    "                                                                                                    ,maximum_iterations=466)"
   ]
  },
  {
   "cell_type": "code",
   "execution_count": 74,
   "metadata": {},
   "outputs": [],
   "source": [
    "final_rnn = []\n",
    "\n",
    "paddings=[[0, 466 - tf.shape(final_rnn_output)[1]], [0, 0]]\n",
    "for i in range(final_rnn_output.shape[0]):\n",
    "    final_rnn.append(tf.pad(final_rnn_output[i], paddings, 'CONSTANT', constant_values = word_to_int[EOS]))\n",
    "final_rnn_output.shape\n",
    "final_rnn = tf.stack(final_rnn)"
   ]
  },
  {
   "cell_type": "code",
   "execution_count": 75,
   "metadata": {},
   "outputs": [
    {
     "data": {
      "text/plain": [
       "TensorShape([Dimension(46), Dimension(None), Dimension(12)])"
      ]
     },
     "execution_count": 75,
     "metadata": {},
     "output_type": "execute_result"
    }
   ],
   "source": [
    "final_rnn.shape"
   ]
  },
  {
   "cell_type": "raw",
   "metadata": {},
   "source": [
    "# with tf.VariableScope('timedis'):\n",
    "#     logits=TimeDistributed(tf.layers.Dense(12),input_shape=(final_rnn_output.shape[1],final_rnn_output.shape[2]))(final_rnn_output)\n",
    "\n",
    "def changer(final_rnn_output):\n",
    "    common = tf.shape(final_rnn_output)[1]\n",
    "    paddd = tf.ones(shape = (12, 1), dtype=tf.float32) * word_to_int[EOS]\n",
    "    for i in range(46):\n",
    "        for j in range(466 - common):\n",
    "            final_rnn_output[i] = np.transpose(np.hstack((np.transpose(final_rnn_output[i]), np.transpose(paddd))))\n",
    "                                           \n",
    "    return final_rnn_output\n",
    "\n",
    "    \n"
   ]
  },
  {
   "cell_type": "code",
   "execution_count": 76,
   "metadata": {},
   "outputs": [],
   "source": [
    "losss=tf.losses.absolute_difference(final_rnn,dec_target)\n",
    "trainop= tf.train.AdamOptimizer(learning_rate=0.01).minimize(losss)"
   ]
  },
  {
   "cell_type": "code",
   "execution_count": 77,
   "metadata": {},
   "outputs": [],
   "source": [
    "# # eos_put= np.full((12, 1), word_to_int[EOS])\n",
    "start_tensor = tf.fill([46, 12], float(word_to_int[SOS]))\n",
    "# start_tensor = ops.convert_to_tensor(start_tensor, dtype = tf.int32)\n",
    "# start_tensor = tf.cast(start_tensor, dtype=tf.float32)\n",
    "\n",
    "# end_tensor = tf.fill([ttrain.shape[0], 12], word_to_int[EOS])\n",
    "# # end_tensor = ops.convert_to_tensor(start_inputs, dtype = tf.int32)\n",
    "\n",
    "# def initialize_fn():\n",
    "#     finished = tf.tile([False], [ttrain.shape[0]])\n",
    "    \n",
    "#     return (finished, start_tensor)\n",
    "\n",
    "# #  def sample(self, time, outputs, state, name=None):\n",
    "# #         return outputs\n",
    "        \n",
    "# def next_inputs_fn(time, outputs, state, sample_ids):\n",
    "#     del time, sample_ids #not used by next_inputs_fn\n",
    "    \n",
    "#     finished = math_ops.equal(sample_ids, word_to_int[EOS])\n",
    "\n",
    "#     # finished needs to update after last step.\n",
    "#     # one could use conditional logic based on sequence length\n",
    "#     # if sequence length is known in advance\n",
    "#     finished = maths_ops.reduce_all(math_ops.equal(outputs, end_tensor), axis =1 )\n",
    "#     all_finished = math_ops.reduce_al(finished)\n",
    "\n",
    "#     # next inputs should be the output of the dense layer\n",
    "#     # unless the above finished logic returns [True]\n",
    "#     # in which case next inputs can be anything in the right shape\n",
    "#     next_inputs = control_flow_ops.cond(\n",
    "#         all_finished,\n",
    "#         lambda: end_tensor,\n",
    "#         lambda: outputs\n",
    "#     )\n",
    "#     return (finished, next_inputs, state)\n",
    "\n",
    "inference_helper = tf.contrib.seq2seq.InferenceHelper(\n",
    "        sample_fn=lambda outputs: outputs,\n",
    "        sample_shape=[12],\n",
    "        sample_dtype=tf.float32,\n",
    "        start_inputs=start_tensor,\n",
    "        end_fn=lambda sample_ids: False,\n",
    ")"
   ]
  },
  {
   "cell_type": "code",
   "execution_count": 78,
   "metadata": {},
   "outputs": [],
   "source": [
    "inference_decoder = tf.contrib.seq2seq.BasicDecoder(\n",
    "                    decoder_cell, inference_helper, initial_state, \n",
    "                    output_layer = projection_layer)"
   ]
  },
  {
   "cell_type": "code",
   "execution_count": 79,
   "metadata": {},
   "outputs": [],
   "source": [
    "(inf_output, inf_sample), _, _ = tf.contrib.seq2seq.dynamic_decode(\n",
    "                                                inference_decoder,\n",
    "                                                maximum_iterations = 466)\n",
    "\n",
    "translations = inf_output\n",
    "# foutt = TimeDistributed(tf.layers.Dense(12),input_shape=(inf_output.shape[1], inf_output.shape[2]))(inf_output)"
   ]
  },
  {
   "cell_type": "code",
   "execution_count": 80,
   "metadata": {},
   "outputs": [
    {
     "data": {
      "text/plain": [
       "414"
      ]
     },
     "execution_count": 80,
     "metadata": {},
     "output_type": "execute_result"
    }
   ],
   "source": [
    "len(dec_len)"
   ]
  },
  {
   "cell_type": "markdown",
   "metadata": {},
   "source": [
    "## This is for training "
   ]
  },
  {
   "cell_type": "raw",
   "metadata": {},
   "source": [
    "losx=[]\n",
    "saver=tf.train.Saver()\n",
    "\n",
    "# with tf.device('/gp):\n",
    "with tf.device('/gpu:0'):\n",
    "    with tf.Session() as sess:\n",
    "        \n",
    "        sess.run(tf.global_variables_initializer())\n",
    "#         if(tf.train.checkpoint_exists(\"checkpoint_seq2seq_AAI/model_seq2seq.ckpt\")):\n",
    "#             saver.restore(sess, \"checkpoint_seq2seq_AAI/model_seq2seq.ckpt\")\n",
    "#         for i in range(100):\n",
    "#             for j in range(8):\n",
    "                \n",
    "#                 loss,_=sess.run([losss,trainop],feed_dict={encoder_input:div_xtrain[j],\n",
    "#                                                            dec_target: div_xtarget[j],\n",
    "#                                                            decoder_input:div_dec_in[j],\n",
    "#                                                            hol_enc_len: div_enc_len[j],\n",
    "#                                                            hol_dec_len: div_dec_len[j]\n",
    "#                                                           }\n",
    "#                                )\n",
    "#             print(\"Loss: \",loss,\" of epoch no.{}\".format(i))\n",
    "# encoder_input:xtrain,\n",
    "# decoder_input:dec_in,\n",
    "# hol_enc_len: enc_len,\n",
    "# hol_dec_len: dec_len           \n",
    "        for j in trange(1):\n",
    "            for tra, tar, din, elen, dlen in data_loader:\n",
    "                loss, train_op = sess.run([losss, trainop],feed_dict={    \n",
    "#                                                                     encoder_input:xtrain,\n",
    "#                                                                     dec_target: xtarget,\n",
    "#                                                                     decoder_input:dec_in,\n",
    "#                                                                     hol_enc_len: enc_len,\n",
    "#                                                                     hol_dec_len: dec_len    \n",
    "                                                                encoder_input:tra,\n",
    "                                                                dec_target: tar,\n",
    "                                                                decoder_input:din,\n",
    "                                                                hol_enc_len: elen,\n",
    "                                                                hol_dec_len: dlen\n",
    "                                                      }\n",
    "                        )\n",
    "#             translation = changer(translation)\n",
    "            print(loss)\n",
    "#         final_ema = sess.run([translations], feed_dict = {encoder_input: ttrain,\n",
    "#                                                           hol_enc_len:tlen} \n",
    "#                             )\n",
    "#             losx.append([loss])\n",
    "# encoder_input:xtrain,\n",
    "# dec_target: xtarget,\n",
    "# decoder_input:dec_in,\n",
    "# hol_enc_len: enc_len,\n",
    "# hol_dec_len: dec_len\n",
    "\n",
    "        save_path = saver.save(sess, \"checkpoint_seq2seq_AAI/model.ckpt\")\n",
    "#         print(\"Model saved in path: %s\" % save_path)\n"
   ]
  },
  {
   "cell_type": "markdown",
   "metadata": {},
   "source": [
    "## This is for Inference"
   ]
  },
  {
   "cell_type": "code",
   "execution_count": 81,
   "metadata": {},
   "outputs": [
    {
     "name": "stdout",
     "output_type": "stream",
     "text": [
      "INFO:tensorflow:Restoring parameters from checkpoint_seq2seq_AAI/model_seq2seq.ckpt\n"
     ]
    },
    {
     "name": "stderr",
     "output_type": "stream",
     "text": [
      "100%|██████████| 1/1 [00:05<00:00,  5.42s/it]"
     ]
    },
    {
     "name": "stdout",
     "output_type": "stream",
     "text": [
      "(1, 46, 466, 12)\n"
     ]
    },
    {
     "name": "stderr",
     "output_type": "stream",
     "text": [
      "\n"
     ]
    }
   ],
   "source": [
    "losx=[]\n",
    "saver=tf.train.Saver()\n",
    "\n",
    "# with tf.device('/gp):\n",
    "with tf.device('/cpu:0'):\n",
    "    with tf.Session() as sess:\n",
    "        \n",
    "#         sess.run(tf.global_variables_initializer())\n",
    "        if(tf.train.checkpoint_exists(\"checkpoint_seq2seq_AAI/model_seq2seq.ckpt\")):\n",
    "            saver.restore(sess, \"checkpoint_seq2seq_AAI/model_seq2seq.ckpt\")\n",
    "#         for i in range(100):\n",
    "#             for j in range(8):\n",
    "                \n",
    "#                 loss,_=sess.run([losss,trainop],feed_dict={encoder_input:div_xtrain[j],\n",
    "#                                                            dec_target: div_xtarget[j],\n",
    "#                                                            decoder_input:div_dec_in[j],\n",
    "#                                                            hol_enc_len: div_dec_len[j],\n",
    "#                                                            hol_dec_len: div_enc_len[j]\n",
    "#                                                           }\n",
    "#                                )\n",
    "#             print(\"Loss: \",loss,\" of epoch no.{}\".format(i))\n",
    "# encoder_input:xtrain,\n",
    "# decoder_input:dec_in,\n",
    "# hol_enc_len: enc_len,\n",
    "# hol_dec_len: dec_len           \n",
    "        for j in trange(1):\n",
    "            translation = sess.run([translations],feed_dict={encoder_input:ttrain,\n",
    "#                                                                 decoder_input:dec_in,\n",
    "                                                                hol_enc_len: tlen,\n",
    "#                                                                 hol_dec_len: enc_len\n",
    "                                                      }\n",
    "                        )\n",
    "            print(np.shape(translation))\n",
    "#         final_ema = sess.run([translations], feed_dict = {encoder_input: ttrain,\n",
    "#                                                           hol_enc_len:tlen} \n",
    "#                             )\n",
    "#             losx.append([loss])\n",
    "# encoder_input:xtrain,\n",
    "# dec_target: xtarget,\n",
    "# decoder_input:dec_in,\n",
    "# hol_enc_len: dec_len,\n",
    "# hol_dec_len: enc_len\n",
    "\n",
    "#         save_path = saver.save(sess, \"checkpoint_seq2seq_AAI/model.ckpt\")\n",
    "#         print(\"Model saved in path: %s\" % save_path)\n"
   ]
  },
  {
   "cell_type": "code",
   "execution_count": 82,
   "metadata": {},
   "outputs": [],
   "source": [
    "translation = np.squeeze(translation)"
   ]
  },
  {
   "cell_type": "code",
   "execution_count": 83,
   "metadata": {},
   "outputs": [
    {
     "data": {
      "text/plain": [
       "(46, 466, 12)"
      ]
     },
     "execution_count": 83,
     "metadata": {},
     "output_type": "execute_result"
    }
   ],
   "source": [
    "translation.shape"
   ]
  },
  {
   "cell_type": "code",
   "execution_count": 84,
   "metadata": {},
   "outputs": [
    {
     "name": "stdout",
     "output_type": "stream",
     "text": [
      "0\n"
     ]
    },
    {
     "data": {
      "image/png": "[encoded data removed]",
      "text/plain": [
       "<Figure size 432x288 with 1 Axes>"
      ]
     },
     "metadata": {
      "needs_background": "light"
     },
     "output_type": "display_data"
    },
    {
     "data": {
      "image/png": "[encoded data removed]",
      "text/plain": [
       "<Figure size 432x288 with 1 Axes>"
      ]
     },
     "metadata": {
      "needs_background": "light"
     },
     "output_type": "display_data"
    },
    {
     "name": "stdout",
     "output_type": "stream",
     "text": [
      "0.8734566156661697\n",
      "1\n"
     ]
    },
    {
     "data": {
      "image/png": "[encoded data removed]",
      "text/plain": [
       "<Figure size 432x288 with 1 Axes>"
      ]
     },
     "metadata": {
      "needs_background": "light"
     },
     "output_type": "display_data"
    },
    {
     "data": {
      "image/png": "[encoded data removed]",
      "text/plain": [
       "<Figure size 432x288 with 1 Axes>"
      ]
     },
     "metadata": {
      "needs_background": "light"
     },
     "output_type": "display_data"
    },
    {
     "name": "stdout",
     "output_type": "stream",
     "text": [
      "0.5662001674499993\n",
      "2\n"
     ]
    },
    {
     "data": {
      "image/png": "[encoded data removed]",
      "text/plain": [
       "<Figure size 432x288 with 1 Axes>"
      ]
     },
     "metadata": {
      "needs_background": "light"
     },
     "output_type": "display_data"
    },
    {
     "data": {
      "image/png": "[encoded data removed]",
      "text/plain": [
       "<Figure size 432x288 with 1 Axes>"
      ]
     },
     "metadata": {
      "needs_background": "light"
     },
     "output_type": "display_data"
    },
    {
     "name": "stdout",
     "output_type": "stream",
     "text": [
      "0.7693063048269783\n",
      "3\n"
     ]
    },
    {
     "data": {
      "image/png": "[encoded data removed]",
      "text/plain": [
       "<Figure size 432x288 with 1 Axes>"
      ]
     },
     "metadata": {
      "needs_background": "light"
     },
     "output_type": "display_data"
    },
    {
     "data": {
      "image/png": "[encoded data removed]",
      "text/plain": [
       "<Figure size 432x288 with 1 Axes>"
      ]
     },
     "metadata": {
      "needs_background": "light"
     },
     "output_type": "display_data"
    },
    {
     "name": "stdout",
     "output_type": "stream",
     "text": [
      "0.09782372754303263\n",
      "4\n"
     ]
    },
    {
     "data": {
      "image/png": "[encoded data removed]",
      "text/plain": [
       "<Figure size 432x288 with 1 Axes>"
      ]
     },
     "metadata": {
      "needs_background": "light"
     },
     "output_type": "display_data"
    },
    {
     "data": {
      "image/png": "[encoded data removed]",
      "text/plain": [
       "<Figure size 432x288 with 1 Axes>"
      ]
     },
     "metadata": {
      "needs_background": "light"
     },
     "output_type": "display_data"
    },
    {
     "name": "stdout",
     "output_type": "stream",
     "text": [
      "0.4162221538347215\n"
     ]
    }
   ],
   "source": [
    "for i in range(5):\n",
    "    noo = i\n",
    "    print(i)\n",
    "    \n",
    "    plt.plot(translation[noo,:,5])\n",
    "    plt.xlabel('Prediction')\n",
    "    plt.show()\n",
    "\n",
    "\n",
    "\n",
    "    plt.plot(ttarget[noo,:,5])\n",
    "    plt.xlabel('Actual Output')\n",
    "    plt.show()\n",
    "\n",
    "    print(pearsonr(xtarget[noo,:,11],translation[noo,:,11])[0]\n",
    ")\n",
    "\n"
   ]
  },
  {
   "cell_type": "code",
   "execution_count": null,
   "metadata": {},
   "outputs": [],
   "source": []
  },
  {
   "cell_type": "markdown",
   "metadata": {},
   "source": [
    "#### RMSE LOSS: 2.51\n",
    "#### Pearson's Coefficient: 0.828"
   ]
  },
  {
   "cell_type": "code",
   "execution_count": 85,
   "metadata": {},
   "outputs": [
    {
     "name": "stderr",
     "output_type": "stream",
     "text": [
      "100%|██████████| 46/46 [00:00<00:00, 1209.54it/s]"
     ]
    },
    {
     "name": "stdout",
     "output_type": "stream",
     "text": [
      "0.38270248612251\n"
     ]
    },
    {
     "name": "stderr",
     "output_type": "stream",
     "text": [
      "\n"
     ]
    }
   ],
   "source": [
    "count=0\n",
    "avg=0.0\n",
    "for i in trange(ttarget.shape[0]):\n",
    "    for j in range(ttarget.shape[2]):\n",
    "        avg+=pearsonr(ttarget[i,:,j],translation[i,:,j])[0]\n",
    "        count+=1\n",
    "avg=float(avg/count)\n",
    "\n",
    "print(avg)\n"
   ]
  },
  {
   "cell_type": "code",
   "execution_count": 86,
   "metadata": {},
   "outputs": [],
   "source": [
    "losu = np.load('losx.npy')"
   ]
  },
  {
   "cell_type": "code",
   "execution_count": 87,
   "metadata": {},
   "outputs": [
    {
     "data": {
      "text/plain": [
       "[<matplotlib.lines.Line2D at 0x7f55d4fd9b38>]"
      ]
     },
     "execution_count": 87,
     "metadata": {},
     "output_type": "execute_result"
    },
    {
     "data": {
      "image/png": "[encoded data removed]",
      "text/plain": [
       "<Figure size 432x288 with 1 Axes>"
      ]
     },
     "metadata": {
      "needs_background": "light"
     },
     "output_type": "display_data"
    }
   ],
   "source": [
    "plt.plot(losu)"
   ]
  },
  {
   "cell_type": "code",
   "execution_count": 89,
   "metadata": {},
   "outputs": [
    {
     "data": {
      "text/plain": [
       "array([2.1823516], dtype=float32)"
      ]
     },
     "execution_count": 89,
     "metadata": {},
     "output_type": "execute_result"
    }
   ],
   "source": [
    "losu"
   ]
  },
  {
   "cell_type": "code",
   "execution_count": null,
   "metadata": {},
   "outputs": [],
   "source": []
  },
  {
   "cell_type": "code",
   "execution_count": null,
   "metadata": {},
   "outputs": [],
   "source": []
  },
  {
   "cell_type": "code",
   "execution_count": null,
   "metadata": {},
   "outputs": [],
   "source": []
  },
  {
   "cell_type": "code",
   "execution_count": null,
   "metadata": {},
   "outputs": [],
   "source": []
  },
  {
   "cell_type": "code",
   "execution_count": null,
   "metadata": {},
   "outputs": [],
   "source": []
  },
  {
   "cell_type": "code",
   "execution_count": null,
   "metadata": {},
   "outputs": [],
   "source": []
  },
  {
   "cell_type": "code",
   "execution_count": null,
   "metadata": {},
   "outputs": [],
   "source": []
  },
  {
   "cell_type": "code",
   "execution_count": null,
   "metadata": {},
   "outputs": [],
   "source": []
  },
  {
   "cell_type": "code",
   "execution_count": null,
   "metadata": {},
   "outputs": [],
   "source": []
  }
 ],
 "metadata": {
  "kernelspec": {
   "display_name": "Python 3",
   "language": "python",
   "name": "python3"
  },
  "language_info": {
   "codemirror_mode": {
    "name": "ipython",
    "version": 3
   },
   "file_extension": ".py",
   "mimetype": "text/x-python",
   "name": "python",
   "nbconvert_exporter": "python",
   "pygments_lexer": "ipython3",
   "version": "3.5.2"
  }
 },
 "nbformat": 4,
 "nbformat_minor": 2
}
